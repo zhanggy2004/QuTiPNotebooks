{
 "cells": [
  {
   "cell_type": "markdown",
   "metadata": {},
   "source": [
    "# QuTiP Notebooks\n",
    "## [QuTiP offical examples](http://mybinder.org/repo/qutip/qutip-notebooks)\n",
    "## [Q function calculation](./Qfunction.ipynb)\n",
    "## [Cross-resonance gate](./CRGate/CrossResonanceGate.ipynb)\n",
    "## [Photon number splitting](./NumberSplitting.ipynb)\n",
    "## [Photon shot noise dephasing](./PhotonShotNoise/PhotonShotNoise.ipynb)\n",
    "## [Gate tune-up and DRAG](./GateTuneup.ipynb)\n",
    "## [Cat code](./CatCode.ipynb)\n",
    "## [Flux pumping](./FluxPumping/FluxPumping.ipynb)"
   ]
  }
 ],
 "metadata": {
  "anaconda-cloud": {},
  "kernelspec": {
   "display_name": "Python [conda root]",
   "language": "python",
   "name": "conda-root-py"
  },
  "language_info": {
   "codemirror_mode": {
    "name": "ipython",
    "version": 3
   },
   "file_extension": ".py",
   "mimetype": "text/x-python",
   "name": "python",
   "nbconvert_exporter": "python",
   "pygments_lexer": "ipython3",
   "version": "3.5.2"
  }
 },
 "nbformat": 4,
 "nbformat_minor": 1
}
