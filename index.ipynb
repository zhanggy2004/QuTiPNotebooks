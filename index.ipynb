{
 "cells": [
  {
   "cell_type": "markdown",
   "metadata": {},
   "source": [
    "# QuTiP Notebooks\n",
    "- [Q function calculation](QFunction/Qfunction_QuTiP.ipynb)\n",
    "- [Transmon eigenenergies](TransmonSpectrum.ipynb)\n",
    "- [Monte Carlo calculation for T<sub>1</sub>  and T<sub>2</sub>](T1T2MonteCarlo.ipynb)\n",
    "- [Cross-resonance gate](CRGate/CrossResonanceGate.ipynb)\n",
    "- [Photon number splitting](NumberSplitting.ipynb)\n",
    "- [Photon shot noise dephasing](PhotonShotNoise/PhotonShotNoise.ipynb)\n",
    "- [Gate tune-up and DRAG](GateTuneup.ipynb)\n",
    "- [Cat code](CatCode.ipynb)\n",
    "- [Flux pumping](FluxPumping/FluxPumping.ipynb)\n",
    "- [Qubit stabilization using blue sideband modulation](QubitStabilization/QubitStabilization.ipynb)\n",
    "- [Static ZZ crosstalk](StaticZZ/StaticZZ.ipynb)"
   ]
  }
 ],
 "metadata": {
  "kernelspec": {
   "display_name": "Python [conda root]",
   "language": "python",
   "name": "conda-root-py"
  },
  "language_info": {
   "codemirror_mode": {
    "name": "ipython",
    "version": 3
   },
   "file_extension": ".py",
   "mimetype": "text/x-python",
   "name": "python",
   "nbconvert_exporter": "python",
   "pygments_lexer": "ipython3",
   "version": "3.6.3"
  }
 },
 "nbformat": 4,
 "nbformat_minor": 2
}
