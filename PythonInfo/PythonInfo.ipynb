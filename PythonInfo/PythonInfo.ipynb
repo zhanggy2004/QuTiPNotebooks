{
 "cells": [
  {
   "cell_type": "markdown",
   "metadata": {},
   "source": [
    "[`system_info.py`](./system_info.py) is a Python script that displays some QuTiP dependencies and general system information.\n",
    "\n",
    "Sample output from one of the lab computers (type '`python system_info.py`' in terminal):\n",
    "\n",
    "**Linux default Python**\n",
    "\n",
    "    Python:         2.7.6 \n",
    "    Build:          default, Jun 22 2015 17:58:13\n",
    "    Compiler:       GCC 4.8.2\n",
    "    IPython:        5.0.0\n",
    "    Cython:         0.24\n",
    "    numpy:          1.11.1\n",
    "    scipy:          0.17.1\n",
    "    matplotlib:     1.5.1\n",
    "    qutip:          3.1.0\n",
    "    User:           photon\n",
    "    OS:             Linux (x86_64)\n",
    "    Computer:       Cloyd-ubuntu\n",
    "    QuTiP location: /usr/local/lib/python2.7/dist-packages\n",
    "    Time:           Fri Jul 22 12:57:54 2016 EDT\n",
    "**Anaconda Python**\n",
    "\n",
    "    Python:         3.5.2 |Continuum Analytics, Inc.| \n",
    "    Build:          default, Jul  2 2016 17:53:06\n",
    "    Compiler:       GCC 4.4.7 20120313 (Red Hat 4.4.7-1)\n",
    "    IPython:        5.0.0\n",
    "    Cython:         0.24\n",
    "    numpy:          1.11.1\n",
    "    scipy:          0.17.1\n",
    "    matplotlib:     1.5.1\n",
    "    qutip:          3.1.0\n",
    "    User:           conda\n",
    "    OS:             Linux (x86_64)\n",
    "    Computer:       Cloyd-ubuntu\n",
    "    QuTiP location: /home/conda/anaconda/lib/python3.5/site-packages\n",
    "    Time:           Fri Jul 22 13:04:23 2016 EDT\n",
    "    \n",
    "You can run the following cell to display your current configuration.    "
   ]
  },
  {
   "cell_type": "code",
   "execution_count": 1,
   "metadata": {
    "collapsed": false,
    "scrolled": true
   },
   "outputs": [
    {
     "name": "stdout",
     "output_type": "stream",
     "text": [
      "Python:         3.5.2 |Continuum Analytics, Inc.| \n",
      "Build:          default, Jul  2 2016 17:53:06\n",
      "Compiler:       GCC 4.4.7 20120313 (Red Hat 4.4.7-1)\n",
      "IPython:        5.0.0\n",
      "Cython:         0.24.1\n",
      "numpy:          1.11.1\n",
      "scipy:          0.17.1\n",
      "matplotlib:     1.5.1\n",
      "qutip:          3.2.0.dev-c209b67\n",
      "User:           gengyan\n",
      "OS:             Linux (x86_64)\n",
      "Computer:       gengyan-ThinkPad-T420\n",
      "QuTiP location: /home/gengyan/anaconda3/lib/python3.5/site-packages\n",
      "Time:           Fri Jul 22 13:13:51 2016 EDT\n"
     ]
    }
   ],
   "source": [
    "%run system_info.py"
   ]
  }
 ],
 "metadata": {
  "anaconda-cloud": {},
  "kernelspec": {
   "display_name": "Python [default]",
   "language": "python",
   "name": "python3"
  },
  "language_info": {
   "codemirror_mode": {
    "name": "ipython",
    "version": 3
   },
   "file_extension": ".py",
   "mimetype": "text/x-python",
   "name": "python",
   "nbconvert_exporter": "python",
   "pygments_lexer": "ipython3",
   "version": "3.5.2"
  }
 },
 "nbformat": 4,
 "nbformat_minor": 0
}
